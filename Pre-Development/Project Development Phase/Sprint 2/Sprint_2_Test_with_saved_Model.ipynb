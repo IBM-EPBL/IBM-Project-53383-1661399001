{
  "nbformat": 4,
  "nbformat_minor": 0,
  "metadata": {
    "colab": {
      "provenance": []
    },
    "kernelspec": {
      "name": "python3",
      "display_name": "Python 3"
    },
    "language_info": {
      "name": "python"
    }
  },
  "cells": [
    {
      "cell_type": "code",
      "execution_count": 7,
      "metadata": {
        "id": "oMo4aFiwBgoL"
      },
      "outputs": [],
      "source": [
        "#Importing the Keras libraries and packages\n",
        "from tensorflow.keras.models import load_model\n",
        "from PIL import Image #used for manipulating image uploaded by the user.\n",
        "import numpy as np #used for numerrical analysis\n",
        "model = load_model(r'Project Development Phase\\Sprint 2\\models\\project.h5')\n",
        "\n",
        "img = Image.open(\"Project Development Phase\\Sprint 2\\data\\Data.PNG\").convert(\"L\") # convert image to monochrome\n",
        "img = img.resize( (28, 28) ) # resizing of input image\n",
        "im2arr = np.array(img) #converting to image\n",
        "im2arr = im2arr.reshape(1, 28, 28, 1) #reshaping according to our requirement\n",
        "# Predicting the Test set results\n",
        "y_pred = model.predict(im2arr) #predicting the results\n",
        "print(y_pred)"
      ]
    },
    {
      "cell_type": "code",
      "source": [
        "1/1 [==============================] - 0s 211ms/step\n",
        "[[6.7148167e-03 3.6236937e-03 1.2793539e-02 7.3965698e-02 3.1315892e-03\n",
        "  2.2746704e-04 2.5199999e-03 4.7140449e-01 4.9540079e-03 4.2066479e-01]]"
      ],
      "metadata": {
        "id": "ep5vcgf0EvZX"
      },
      "execution_count": null,
      "outputs": []
    },
    {
      "cell_type": "code",
      "source": [
        "import numpy as np\n",
        "print(np.argmax(y_pred, axis=1)) #printing our Labels from first 4 images\n"
      ],
      "metadata": {
        "id": "4ppguvvdB9x_"
      },
      "execution_count": 7,
      "outputs": []
    },
    {
      "cell_type": "code",
      "source": [
        "[6]"
      ],
      "metadata": {
        "id": "twIHob-iEz9i"
      },
      "execution_count": null,
      "outputs": []
    }
  ]
}